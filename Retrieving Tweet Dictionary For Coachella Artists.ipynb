{
 "cells": [
  {
   "cell_type": "code",
   "execution_count": 2,
   "metadata": {},
   "outputs": [],
   "source": [
    "import os\n",
    "import json\n",
    "import datetime\n",
    "\n",
    "#use whichever folder\n",
    "folder = #use whichever folder the files are stored in\n",
    "\n",
    "#quick function to open files\n",
    "def open_file(file_name):\n",
    "    with open(os.path.join(folder, file_name), mode = 'r', encoding = 'utf8') as reader:\n",
    "        dct = json.load(reader)\n",
    "    return dct"
   ]
  },
  {
   "cell_type": "code",
   "execution_count": 45,
   "metadata": {},
   "outputs": [],
   "source": [
    "#Open Weekend Lineup\n",
    "weekend_lineup_dict = open_file('Weekend Artist Lineup.json')"
   ]
  },
  {
   "cell_type": "code",
   "execution_count": 46,
   "metadata": {},
   "outputs": [
    {
     "data": {
      "text/plain": [
       "{'Day': 'Sunday, April 21, 2019',\n",
       " 'Start Time': 'Sunday, April 21, 2019 10:30 PM -0700',\n",
       " 'End Time': 'Monday, April 22, 2019 12:00 AM -0700',\n",
       " 'Stage': ' Coachella Stage'}"
      ]
     },
     "execution_count": 46,
     "metadata": {},
     "output_type": "execute_result"
    }
   ],
   "source": [
    "#Get set info for artist of interest\n",
    "def get_artist_set_info_dict(artist_name):\n",
    "    return open_file('Weekend Artist Lineup.json')[artist_name]\n",
    "\n",
    "get_artist_set_info_dict('Ariana Grande')"
   ]
  },
  {
   "cell_type": "code",
   "execution_count": 7,
   "metadata": {},
   "outputs": [],
   "source": [
    "#tweet timestamp to time converter\n",
    "def get_tweet_timestamp(tid):\n",
    "    offset = 1288834974657\n",
    "    tstamp = (tid >> 22) + offset\n",
    "    utcdttime = datetime.datetime.fromtimestamp(tstamp/1000, tz=datetime.timezone.utc)\n",
    "    return utcdttime"
   ]
  },
  {
   "cell_type": "code",
   "execution_count": 37,
   "metadata": {},
   "outputs": [],
   "source": [
    "#Get list of tweets from artist set\n",
    "def get_tweets_from_set(artist_name):\n",
    "    artist_set_info_dict = get_artist_set_info_dict(artist_name)\n",
    "    hour_tweet_list = []\n",
    "    artist_tweet_list = []\n",
    "    \n",
    "    start_time = datetime.datetime.strptime(artist_set_info_dict['Start Time'], '%A, %B %d, %Y %I:%M %p %z')\n",
    "    start_day = start_time.utctimetuple().tm_mday\n",
    "    start_hour = start_time.utctimetuple().tm_hour\n",
    "    \n",
    "    \n",
    "    end_time = datetime.datetime.strptime(artist_set_info_dict['End Time'], '%A, %B %d, %Y %I:%M %p %z')\n",
    "    end_day = end_time.utctimetuple().tm_mday\n",
    "    end_hour = end_time.utctimetuple().tm_hour\n",
    "    \n",
    "    first_hour = f'{start_day}.{start_hour}'\n",
    "    last_hour = f'{end_day}.{end_hour}'\n",
    "    \n",
    "    if start_day == end_day:\n",
    "        day_dct = open_file('4.' + str(start_day) + '.19 coachella tweets.json')\n",
    "        if end_hour - start_hour == 0:\n",
    "            hour_tweet_list = [day_dct[first_hour]]\n",
    "        elif end_hour - start_hour == 1:\n",
    "            hour_tweet_list = [day_dct[first_hour], day_dct[last_hour]]\n",
    "        else:\n",
    "            hour_tweet_list = [day_dct[first_hour], day_dct[f'{start_day}.{start_hour + 1}'], day_dct[last_hour]]\n",
    "    else:\n",
    "        day_start_dct = open_file('4.' + str(start_day) + '.19 coachella tweets.json')\n",
    "        day_end_dct = open_file('4.' + str(end_day) + '.19 coachella tweets.json')\n",
    "        if end_hour - start_hour == -23:\n",
    "            hour_tweet_list = [day_start_dct[first_hour], day_end_dct[last_hour]] # for when tweet hour ranges from hour 23 to hour 0\n",
    "        else:\n",
    "            if start_hour == 23:\n",
    "                hour_tweet_list = [day_start_dct[first_hour], day_end_dct[f'{end_day}.{end_hour-1}'], day_end_dct[last_hour]] #for when tweet hour ranges from hour 23 - hour 1\n",
    "            else:\n",
    "                hour_tweet_list = [day_start_dct[first_hour], day_start_dct[f'{start_day}.{start_hour+1}'], day_end_dct[last_hour]] #for when tweet hour ranges from hour 22 - hour 0\n",
    "        \n",
    "    hour_tweet_list = [element for row in hour_tweet_list for element in row]\n",
    "    hour_tweet_list = sorted(hour_tweet_list)\n",
    "    \n",
    "    for tweet_id in hour_tweet_list:\n",
    "        if start_time < get_tweet_timestamp(int(tweet_id)) < end_time:\n",
    "            artist_tweet_list.append(tweet_id)\n",
    "    \n",
    "        \n",
    "    return artist_tweet_list\n",
    "      "
   ]
  },
  {
   "cell_type": "code",
   "execution_count": 48,
   "metadata": {},
   "outputs": [],
   "source": [
    "ariana_grande = get_tweets_from_set('Ariana Grande')"
   ]
  },
  {
   "cell_type": "code",
   "execution_count": 49,
   "metadata": {},
   "outputs": [
    {
     "data": {
      "text/plain": [
       "(datetime.datetime(2019, 4, 22, 5, 30, 0, 236000, tzinfo=datetime.timezone.utc),\n",
       " datetime.datetime(2019, 4, 22, 6, 59, 59, 993000, tzinfo=datetime.timezone.utc))"
      ]
     },
     "execution_count": 49,
     "metadata": {},
     "output_type": "execute_result"
    }
   ],
   "source": [
    "get_tweet_timestamp(int(ariana_grande[0])), get_tweet_timestamp(int(ariana_grande[-1]))"
   ]
  },
  {
   "cell_type": "code",
   "execution_count": 72,
   "metadata": {},
   "outputs": [
    {
     "data": {
      "text/plain": [
       "29073"
      ]
     },
     "execution_count": 72,
     "metadata": {},
     "output_type": "execute_result"
    }
   ],
   "source": [
    "len(ariana_grande)"
   ]
  },
  {
   "cell_type": "markdown",
   "metadata": {},
   "source": [
    "Now that you have the list of tweet_ids you can pull the full tweet objects using Twython"
   ]
  },
  {
   "cell_type": "code",
   "execution_count": 42,
   "metadata": {},
   "outputs": [],
   "source": [
    "from twython import Twython\n",
    "from time import sleep\n",
    "import itertools\n",
    "\n",
    "#consumer_key = add consumer key here\n",
    "#consumer_secret = add consumer secret here\n",
    "#access_token = add access token here\n",
    "#access_token_secret = add access token secret here\n",
    "\n",
    "#twitter = Twython(consumer_key, consumer_secret, access_token, access_token_secret)"
   ]
  },
  {
   "cell_type": "code",
   "execution_count": 73,
   "metadata": {},
   "outputs": [
    {
     "name": "stdout",
     "output_type": "stream",
     "text": [
      "Mon Apr 22 05:30:03 +0000 2019\n",
      "eh baby isn't Ariana supposed to be performing now?\n",
      "\n",
      "Mon Apr 22 05:30:02 +0000 2019\n",
      "@prayingforYG @ygofficialblink Thấy bảo BP chỉ là leadgroup cho main group của lão thôi nên lão mới để vậy. Đ ai ngờ nhóm bật như tên lửa vậy\n",
      "\n",
      "Mon Apr 22 05:30:02 +0000 2019\n",
      "RT @prasejeebus: Is everyone okay https://t.co/upcSSo11M1\n",
      "\n",
      "Mon Apr 22 05:30:03 +0000 2019\n",
      "Chaelice\n",
      "#BLACKPINK \n",
      "#LISA #Rosé #chaelisa https://t.co/C5xFFNcKtH\n",
      "\n",
      "Mon Apr 22 05:30:02 +0000 2019\n",
      "RT @forevernews_in: Sansa changed her mind instantly for brienne. tormund again was in awe of her. jaime knighted her. a room full of men a…\n",
      "\n",
      "Mon Apr 22 05:30:02 +0000 2019\n",
      "uhm i thought it's going to be ariana's performance........\n",
      "\n",
      "Mon Apr 22 05:30:03 +0000 2019\n",
      "RT @guitarrmar: I luv Coachella https://t.co/X1lZyt30Mf\n",
      "\n",
      "Mon Apr 22 05:30:03 +0000 2019\n",
      "@Park_Choy @BTS_twt Lol girl same\n",
      "\n",
      "Mon Apr 22 05:30:03 +0000 2019\n",
      "are the live streams late again tonight like they were last weekend?? cause I can’t find Ari’s stream yet\n",
      "\n",
      "Mon Apr 22 05:30:01 +0000 2019\n",
      "RT @yoongbaby_530: 파~랗게 파~랗게 융들었네 꺄르륵 https://t.co/WdyZXGE9jl\n",
      "\n"
     ]
    }
   ],
   "source": [
    "#using the lookup_status function (with tweet_mode in 'exteneded' for any tweets longer than 140 characters) to access tweets\n",
    "\n",
    "tweets = twitter.lookup_status(id = ariana_grande[10:20], tweet_mode='extended')\n",
    "for status in tweets:\n",
    "    print(status['created_at'], status['full_text'], sep = '\\n')\n",
    "    print()"
   ]
  },
  {
   "cell_type": "code",
   "execution_count": 32,
   "metadata": {},
   "outputs": [],
   "source": [
    "#twitter allows you to request up to 100 unique tweet ids in a lookup_status request.\n",
    "#function to group by 100 \n",
    "\n",
    "def grouper(iterable, n=100):\n",
    "    it = iter(iterable)\n",
    "    while True:\n",
    "        chunk = list(itertools.islice(it, n))\n",
    "        if not chunk:\n",
    "            return\n",
    "        yield chunk"
   ]
  },
  {
   "cell_type": "code",
   "execution_count": 75,
   "metadata": {},
   "outputs": [],
   "source": [
    "#creating the tweet dictionary.  Using a 1 second sleep timer to not max the rate limit \n",
    "tweets_dict = {}\n",
    "for tweets in grouper(ariana_grande, 100):\n",
    "    rslts = twitter.lookup_status(id=','.join(tweets), tweet_mode='extended')\n",
    "    for tweet in rslts:\n",
    "        tweets_dict[tweet['id']] = tweet\n",
    "    sleep(1)"
   ]
  },
  {
   "cell_type": "code",
   "execution_count": 91,
   "metadata": {},
   "outputs": [],
   "source": [
    "#tweets_dict.keys()"
   ]
  },
  {
   "cell_type": "code",
   "execution_count": 90,
   "metadata": {},
   "outputs": [
    {
     "data": {
      "text/plain": [
       "(1120198304170532864,\n",
       " \"Let's watch Ariana Grande &amp; Perfume #Coachella 2nd weekend\")"
      ]
     },
     "execution_count": 90,
     "metadata": {},
     "output_type": "execute_result"
    }
   ],
   "source": [
    "#example tweet\n",
    "tweets_dict[1120198304170532864]['id'], tweets_dict[1120198304170532864]['full_text']"
   ]
  },
  {
   "cell_type": "code",
   "execution_count": null,
   "metadata": {},
   "outputs": [],
   "source": []
  }
 ],
 "metadata": {
  "kernelspec": {
   "display_name": "Python 3",
   "language": "python",
   "name": "python3"
  },
  "language_info": {
   "codemirror_mode": {
    "name": "ipython",
    "version": 3
   },
   "file_extension": ".py",
   "mimetype": "text/x-python",
   "name": "python",
   "nbconvert_exporter": "python",
   "pygments_lexer": "ipython3",
   "version": "3.7.3"
  }
 },
 "nbformat": 4,
 "nbformat_minor": 2
}
